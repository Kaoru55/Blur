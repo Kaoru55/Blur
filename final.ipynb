{
 "cells": [
  {
   "cell_type": "code",
   "execution_count": 1,
   "metadata": {},
   "outputs": [],
   "source": [
    "import pandas as pd\n",
    "from sklearn.metrics import mean_squared_error, r2_score\n",
    "import numpy as np\n",
    "from sklearn.neural_network import MLPRegressor\n",
    "from sklearn.model_selection import RandomizedSearchCV\n",
    "from scipy.stats import uniform\n",
    "from sklearn.model_selection import GridSearchCV\n",
    "from sklearn.inspection import permutation_importance\n",
    "import matplotlib.pyplot as plt\n",
    "from xgboost import XGBRegressor\n",
    "from sklearn.tree import DecisionTreeRegressor\n",
    "from sklearn.linear_model import Lasso\n",
    "from sklearn.inspection import permutation_importance\n",
    "from scipy.stats.mstats import winsorize\n",
    "from sklearn.preprocessing import StandardScaler"
   ]
  },
  {
   "cell_type": "markdown",
   "metadata": {},
   "source": [
    "## Date Processing"
   ]
  },
  {
   "cell_type": "markdown",
   "metadata": {},
   "source": [
    "### JKP processing"
   ]
  },
  {
   "cell_type": "code",
   "execution_count": 2,
   "metadata": {},
   "outputs": [
    {
     "name": "stdout",
     "output_type": "stream",
     "text": [
      "The number of dropped factors due to high missing ratio: 0\n",
      "The dropped factors due to low variance: 0\n",
      "The number of dropped factors due to high correlation: 43\n"
     ]
    }
   ],
   "source": [
    "# --- Load and filter JKP data from 2005 onwards ---\n",
    "jkp_long = pd.read_csv(\"[usa]_[all_factors]_[monthly]_[vw_cap].csv\", parse_dates=[\"date\"])\n",
    "jkp_wide = jkp_long.pivot(index=\"date\", columns=\"name\", values=\"ret\")\n",
    "jkp_wide = jkp_wide[jkp_wide.index >= '2005-01-01']\n",
    "\n",
    "# --- Drop columns (factors) with more than 30% missing values ---\n",
    "missing_ratio = jkp_wide.isnull().mean()\n",
    "jkp_filtered = jkp_wide.loc[:, missing_ratio < 0.3]\n",
    "n_dropped = (missing_ratio >= 0.3).sum()\n",
    "print('The number of dropped factors due to high missing ratio:', n_dropped)\n",
    "\n",
    "# --- Apply winsorization to reduce the effect of outliers ---\n",
    "def winsorize_df(df, lower_pct=0.01, upper_pct=0.99):\n",
    "    df_winsorized = df.copy()\n",
    "    for col in df.columns:\n",
    "        lower = df[col].quantile(lower_pct)\n",
    "        upper = df[col].quantile(upper_pct)\n",
    "        df_winsorized[col] = np.clip(df[col], lower, upper)\n",
    "    return df_winsorized\n",
    "\n",
    "jkp_winsorized = winsorize_df(jkp_filtered, lower_pct=0.01, upper_pct=0.99)\n",
    "\n",
    "# --- Remove factors with near-zero variance (less informative) ---\n",
    "variances = jkp_winsorized.var()\n",
    "low_var_cols = variances[variances < 1e-5].index\n",
    "jkp_var_filtered = jkp_winsorized.drop(columns=low_var_cols)\n",
    "print('The dropped factors due to low variance:', len(low_var_cols))\n",
    "\n",
    "# --- Drop one of each pair of highly correlated factors (correlation > 0.9) ---\n",
    "corr_matrix = jkp_var_filtered.corr().abs()\n",
    "upper_triangle = np.triu(corr_matrix, k=1)\n",
    "upper_df = pd.DataFrame(upper_triangle, index=corr_matrix.index, columns=corr_matrix.columns)\n",
    "threshold = 0.9\n",
    "to_drop = [column for column in upper_df.columns if any(upper_df[column] > threshold)]\n",
    "jkp_corr_filtered = jkp_var_filtered.drop(columns=to_drop)\n",
    "print('The number of dropped factors due to high correlation:', len(to_drop))\n",
    "\n",
    "# --- Select specific set of factors to be used in analysis ---\n",
    "selected_factors = [\n",
    "    'beta_60m', 'bidaskhl_21d', 'dolvol_var_126d', 'ebitda_mev', 'f_score',\n",
    "    'inv_gr1', 'kz_index', 'ni_me', 'o_score', 'prc_highprc_252d',\n",
    "    'qmj', 'qmj_growth', 'resff3_6_1', 'ret_12_1', 'ret_3_1', 'ret_6_1',\n",
    "    'sale_me', 'z_score'\n",
    "]\n",
    "\n",
    "# --- Keep only selected factors and reset index ---\n",
    "columns_to_keep = ['date'] + selected_factors\n",
    "columns_existing = [col for col in columns_to_keep if col in jkp_corr_filtered.columns]\n",
    "jkp_selected = jkp_corr_filtered[columns_existing]\n",
    "jkp_selected = jkp_selected.reset_index()"
   ]
  },
  {
   "cell_type": "markdown",
   "metadata": {},
   "source": [
    "### Compustat Processing"
   ]
  },
  {
   "cell_type": "code",
   "execution_count": null,
   "metadata": {},
   "outputs": [],
   "source": []
  },
  {
   "cell_type": "code",
   "execution_count": 5,
   "metadata": {},
   "outputs": [
    {
     "name": "stderr",
     "output_type": "stream",
     "text": [
      "/var/folders/_s/jd19jm5x0bj6k6nfh5q_1n700000gn/T/ipykernel_63759/362472305.py:2: DtypeWarning: Columns (10) have mixed types. Specify dtype option on import or set low_memory=False.\n",
      "  df = pd.read_csv(\"CompFirmCharac.csv\")\n",
      "/var/folders/_s/jd19jm5x0bj6k6nfh5q_1n700000gn/T/ipykernel_63759/362472305.py:9: SettingWithCopyWarning: \n",
      "A value is trying to be set on a copy of a slice from a DataFrame.\n",
      "Try using .loc[row_indexer,col_indexer] = value instead\n",
      "\n",
      "See the caveats in the documentation: https://pandas.pydata.org/pandas-docs/stable/user_guide/indexing.html#returning-a-view-versus-a-copy\n",
      "  df_500['gvkey'] = df_500['gvkey'].astype(str)\n",
      "/var/folders/_s/jd19jm5x0bj6k6nfh5q_1n700000gn/T/ipykernel_63759/362472305.py:102: SettingWithCopyWarning: \n",
      "A value is trying to be set on a copy of a slice from a DataFrame.\n",
      "Try using .loc[row_indexer,col_indexer] = value instead\n",
      "\n",
      "See the caveats in the documentation: https://pandas.pydata.org/pandas-docs/stable/user_guide/indexing.html#returning-a-view-versus-a-copy\n",
      "  df_selected['datadate'] = pd.to_datetime(df_selected['datadate'], errors='coerce')\n"
     ]
    }
   ],
   "source": [
    "# --- Load and filter Compustat data from 2005 onwards ---\n",
    "df = pd.read_csv(\"CompFirmCharac.csv\")\n",
    "df['datadate'] = pd.to_datetime(df['datadate'], errors='coerce')\n",
    "df_500 = df[df['datadate'].dt.year >= 2005]\n",
    "\n",
    "# --- Keep only firms in the S&P500 index ---\n",
    "sp500_firms = [1013, 1075, 1078, 1161, 1177, 1209, 1239, 1240, 1279, 1300, 1318, 1356, 1380, 1408, 1440, 1447, 1449, 1478, 1487, 1567, 1602, 1619, 1632, 1651, 1661, 1663, 1678, 1690, 1704, 1722, 1794, 1878, 1891, 1913, 1920, 1976, 1988, 1995, 2019, 2044, 2085, 2086, 2111, 2136, 2146, 2154, 2184, 2230, 2255, 2269, 2285, 2290, 2312, 2403, 2435, 2444, 2490, 2504, 2547, 2574, 2663, 2710, 2751, 2783, 2817, 2845, 2849, 2884, 2968, 2991, 3011, 3024, 3054, 3062, 3105, 3121, 3144, 3170, 3221, 3226, 3231, 3243, 3278, 3310, 3336, 3362, 3413, 3439, 3497, 3502, 3505, 3532, 3555, 3650, 3734, 3735, 3813, 3835, 3897, 3964, 3980, 4016, 4029, 4040, 4058, 4060, 4062, 4066, 4087, 4093, 4145, 4194, 4199, 4213, 4242, 4321, 4367, 4371, 4423, 4503, 4517, 4560, 4598, 4601, 4611, 4640, 4674, 4699, 4723, 4737, 4739, 4818, 4839, 4843, 4885, 4988, 4990, 5046, 5047, 5071, 5073, 5074, 5125, 5216, 5229, 5234, 5250, 5256, 5439, 5518, 5568, 5589, 5597, 5606, 5643, 5680, 5723, 5742, 5786, 5860, 5878, 5959, 6008, 6066, 6078, 6081, 6097, 6104, 6136, 6241, 6266, 6268, 6304, 6307, 6310, 6375, 6403, 6435, 6475, 6502, 6529, 6649, 6669, 6730, 6733, 6742, 6768, 6774, 6781, 6799, 6821, 6829, 7017, 7065, 7067, 7085, 7116, 7139, 7146, 7154, 7163, 7171, 7186, 7228, 7238, 7241, 7257, 7260, 7267, 7343, 7366, 7409, 7435, 7506, 7585, 7620, 7637, 7647, 7648, 7711, 7750, 7772, 7866, 7875, 7881, 7904, 7906, 7922, 7923, 7974, 7977, 7982, 7985, 8007, 8030, 8068, 8099, 8245, 8247, 8253, 8264, 8272, 8304, 8358, 8402, 8446, 8455, 8470, 8479, 8488, 8530, 8536, 8539, 8543, 8549, 8606, 8762, 8787, 8810, 8823, 8972, 9004, 9063, 9203, 9217, 9258, 9299, 9351, 9359, 9372, 9411, 9459, 9465, 9483, 9555, 9667, 9699, 9778, 9783, 9846, 9850, 9882, 9899, 10016, 10035, 10096, 10115, 10121, 10156, 10187, 10190, 10232, 10247, 10277, 10332, 10391, 10405, 10420, 10426, 10453, 10499, 10507, 10519, 10530, 10614, 10726, 10787, 10793, 10860, 10867, 10903, 10920, 10974, 10983, 10984, 11060, 11220, 11228, 11259, 11264, 11366, 11446, 11456, 11465, 11506, 11609, 11636, 11672, 11687, 11818, 11856, 11910, 11923, 11925, 12053, 12123, 12124, 12136, 12138, 12141, 12142, 12216, 12233, 12338, 12389, 12540, 12635, 12689, 12726, 12756, 12884, 12886, 13041, 13204, 13341, 13498, 13561, 13646, 13714, 13988, 14256, 14324, 14477, 14489, 14535, 14565, 14590, 14623, 14624, 14650, 14824, 14934, 14960, 15084, 15202, 15208, 15247, 15521, 15708, 15709, 15855, 16243, 16478, 16721, 17110, 17130, 18699, 20423, 20779, 22140, 22260, 22325, 22794, 23592, 23809, 23877, 23943, 23978, 24008, 24032, 24216, 24287, 24318, 24379, 24468, 24607, 24800, 24856, 25056, 25124, 25157, 25279, 25283, 25338, 25340, 25356, 25434, 25495, 25880, 26011, 27845, 27914, 27928, 28034, 28139, 28195, 28256, 28338, 28349, 28733, 28930, 29028, 29095, 29241, 29345, 29389, 29392, 29791, 29984, 30128, 30490, 30697, 30865, 30990, 31122, 31166, 31549, 31673, 31846, 61489, 61552, 61574, 61591, 61676, 61739, 62599, 62634, 62689, 63180, 63501, 63669, 63766, 63800, 63892, 64156, 64166, 64356, 64768, 65048, 65417, 65904, 66708, 66731, 110685, 112033, 113419, 114524, 114628, 117768, 119417, 120877, 125533, 126554, 133768, 135484, 136648, 137232, 139662, 139665, 140541, 140760, 143356, 144066, 144559, 145046, 145701, 149738, 157858, 158354, 160255, 164708]\n",
    "sp500_firms_str = [str(x) for x in sp500_firms]\n",
    "df_500['gvkey'] = df_500['gvkey'].astype(str)\n",
    "df_500 = df_500[df_500['gvkey'].isin(sp500_firms_str)]\n",
    "\n",
    "# --- Keep only firms with data up to at least 2024-10-31 ---\n",
    "end_date = pd.to_datetime(\"2024-10-31\")\n",
    "df_500['datadate'] = pd.to_datetime(df_500['datadate'], errors='coerce')\n",
    "latest_dates = df_500.groupby('gvkey')['datadate'].max()\n",
    "valid_gvkeys = latest_dates[latest_dates >= end_date].index\n",
    "df_500 = df_500[df_500['gvkey'].isin(valid_gvkeys)].copy()\n",
    "\n",
    "# --- Remove records after cutoff date and create 'date' column ---\n",
    "cutoff_date = pd.to_datetime(\"2024-10-31\")\n",
    "df_500 = df_500[df_500['datadate'] <= cutoff_date].copy()\n",
    "df_500['date'] = df_500['datadate'] + pd.offsets.MonthEnd(0)\n",
    "\n",
    "# --- Clean and sort data ---\n",
    "id_column = 'gvkey' if 'gvkey' in df_500.columns else 'cik'\n",
    "comp_df_cleaned = df_500.dropna(subset=['date', id_column])\n",
    "comp_df_cleaned = comp_df_cleaned.sort_values(by=['date', id_column])\n",
    "\n",
    "# --- Identify numeric columns for filtering ---\n",
    "numeric_cols = comp_df_cleaned.select_dtypes(include=['int64', 'float64']).columns\n",
    "\n",
    "# --- Drop columns with too many missing values or constants ---\n",
    "\n",
    "#na < 15000 (half of the total rows)\n",
    "na_columns = [\n",
    "    'fuseoy', 'unwccy', 'utfdocy', 'utfoscy', 'uwkcapcy', 'wcapchy', 'wcapcy', 'ufretsdy', 'ustdncy',\n",
    "    'tsafcy', 'fsrcty', 'fusety', 'fsrcoy', 'fopty', 'arcedy', 'arceepsy', 'arcey', 'gdwlamy', 'utmey',\n",
    "    'amcy', 'ffoy', 'srety', 'nimy', 'dprety', 'itccy', 'udfccy', 'finxopry', 'finxinty', 'afudciy',\n",
    "    'afudccy', 'finrevy', 'pdvcy', 'esuby', 'plly', 'niity', 'tiey', 'tiiy', 'ncoy', 'usubdvpy',\n",
    "    'gdwliepsy', 'gdwlidy', 'prstkccy', 'gdwliay', 'rrdy', 'rrepsy', 'gdwlipy', 'rray', 'rrpy',\n",
    "    'tdcy', 'uspiy', 'prstkpcy', 'scstkcy', 'udvpy', 'uoisy', 'depcy', 'uaolochy', 'ugiy', 'spstkcy',\n",
    "    'unopincy', 'uniamiy', 'updvpy', 'cdvcy', 'uptacy', 'wdepsy', 'wddy', 'wday', 'wdpy', 'glivy',\n",
    "    'glepsy', 'gldy', 'glay', 'glpy', 'dteepsy', 'dtedy', 'dteay', 'dtepy', 'derhedgly', 'hedgegly',\n",
    "    'setepsy', 'setdy', 'setay', 'setpy', 'nrtxtepsy', 'nrtxtdy', 'nrtxty', 'spiepsy', 'spidy',\n",
    "    'spioay', 'spiopy', 'txdiy', 'fcay', 'aqepsy', 'aqdy', 'aqay', 'aqpy', 'optfvgry', 'glceepsy',\n",
    "    'glcedy', 'glceay', 'glcepy', 'optdry', 'optlifey', 'optrfry', 'optvoly', 'stkcpay', 'pncidy',\n",
    "    'pnciepsy', 'pncwidy', 'pncwiepsy', 'pnciay', 'pncipy', 'pncwiay', 'pncwipy', 'tfvcey', 'xrdy',\n",
    "    'pncidpy', 'pnciepspy', 'pncwiepy', 'pncwidpy', 'pnciapy', 'pncippy', 'pncwippy', 'pncwiapy',\n",
    "    'rcepsy', 'rcdy', 'rcay', 'spcedy', 'spceepsy', 'rcpy', 'spcedpy', 'spceepspy', 'spcey', 'spcepy'\n",
    "]\n",
    "\n",
    "#unique counts < 2\n",
    "constant_columns = [\n",
    "    'fopty', 'uwkcapcy', 'wcapchy', 'wcapcy', 'ustdncy', 'unwccy',\n",
    "    'utfdocy', 'tsafcy', 'ufretsdy', 'fusety', 'fuseoy', 'fsrcty',\n",
    "    'fsrcoy', 'utfoscy', 'gdwlamy', 'updvpy'\n",
    "]\n",
    "selected_columns = list(set(numeric_cols) - set(na_columns) - set(constant_columns))\n",
    "\n",
    "# --- Winsorize and standardize selected features ---\n",
    "df_num = comp_df_cleaned[['gvkey', 'datadate'] + selected_columns]\n",
    "df_num = df_num.set_index(['gvkey','datadate'])\n",
    "for col in selected_columns:\n",
    "    if pd.api.types.is_numeric_dtype(df_num[col]):\n",
    "        nan_mask = df_num[col].isnull()\n",
    "        valid_series = df_num[col].dropna()\n",
    "        winsorized_array = winsorize(valid_series.to_numpy(), limits=[0.01, 0.01])\n",
    "        df_num.loc[~nan_mask, col] = pd.Series(winsorized_array, index=valid_series.index)\n",
    "\n",
    "scaler = StandardScaler()\n",
    "df_scaled = df_num.copy()\n",
    "df_scaled[selected_columns] = scaler.fit_transform(df_num[selected_columns])\n",
    "\n",
    "# --- Drop highly correlated features ---\n",
    "selected_columns = [col for col in selected_columns if col not in ['rdipay', 'acchgy', 'rdipy', 'rdipdy', 'rdipepsy', 'txwy']]\n",
    "correlation_matrix = df_scaled[selected_columns].corr()\n",
    "highly_correlated_pairs = []\n",
    "temp_highly_correlated_vars_set = set()\n",
    "for i in range(len(correlation_matrix.columns)):\n",
    "    for j in range(i + 1, len(correlation_matrix.columns)):\n",
    "        col1 = correlation_matrix.columns[i]\n",
    "        col2 = correlation_matrix.columns[j]\n",
    "        correlation_value = correlation_matrix.iloc[i, j]\n",
    "        if abs(correlation_value) >= 0.7:\n",
    "            highly_correlated_pairs.append(((col1, col2), correlation_value))\n",
    "            temp_highly_correlated_vars_set.add(col1)\n",
    "            temp_highly_correlated_vars_set.add(col2)\n",
    "\n",
    "highly_correlated_vals = list(temp_highly_correlated_vars_set)\n",
    "duplicated_var = [col for col in highly_correlated_vals if col not in ['xoptdy','xinty','niy','revty','epspiy','cshpry','dpy']]\n",
    "selected_columns = [col for col in selected_columns if col not in duplicated_var]\n",
    "\n",
    "# --- Extract relevant columns for analysis ---\n",
    "columns_to_extract = [\n",
    "    'datadate','gvkey','cusip','fqtr', 'cstkey', 'cicurry', 'dilady', 'niy', 'nopiy', 'invchy', 'esubcy', 'apalchy', 'aolochy',\n",
    "    'exrey', 'spiy', 'aqcy', 'ivstchy', 'txbcoy', 'fyr', 'recchy', 'txbcofy', 'cisecgly', 'xoptdy',\n",
    "    'xidocy', 'xiy', 'fiaoy', 'cipeny', 'revty', 'txdcy', 'xinty', 'ivncfy', 'sstky', 'dlcchy',\n",
    "    'fyearq', 'cidergly', 'exchg', 'ivacoy', 'fincfy', 'cik', 'epspiy', 'dpy', 'sppivy', 'chechy',\n",
    "    'ciothery', 'prstkcy', 'cshpry', 'txachy', 'sppey'\n",
    "]\n",
    "df_selected = comp_df_cleaned[[col for col in columns_to_extract if col in comp_df_cleaned.columns]]\n",
    "df_selected['datadate'] = pd.to_datetime(df_selected['datadate'], errors='coerce')\n",
    "\n",
    "# --- Expand quarterly data to next three months (t, t+1, t+2) ---\n",
    "expanded_rows = []\n",
    "for _, row in df_selected.iterrows():\n",
    "    base_date = row['datadate']\n",
    "    for offset in range(3):\n",
    "        date = (base_date + pd.DateOffset(months=offset)).replace(day=1) + pd.offsets.MonthEnd(0)\n",
    "        new_row = row.copy()\n",
    "        new_row['date'] = date\n",
    "        expanded_rows.append(new_row)\n",
    "\n",
    "comp_selected = pd.DataFrame(expanded_rows)\n",
    "comp_selected = comp_selected.sort_values(by=['date'])"
   ]
  },
  {
   "cell_type": "markdown",
   "metadata": {},
   "source": [
    "### Merge JKP with Compustat"
   ]
  },
  {
   "cell_type": "code",
   "execution_count": null,
   "metadata": {},
   "outputs": [
    {
     "name": "stdout",
     "output_type": "stream",
     "text": [
      "Number of unique cusip8: 321\n"
     ]
    }
   ],
   "source": [
    "comp = comp_selected\n",
    "jkp = jkp_selected\n",
    "jkp['date'] = pd.to_datetime(jkp['date'], errors='coerce')\n",
    "comp['date'] = pd.to_datetime(comp['date'], errors='coerce')\n",
    "\n",
    "# 3. マージ（左側はcompustat、右側にファクター）\n",
    "merged = comp.merge(jkp, on='date', how='left')\n",
    "\n",
    "non_feature_cols = ['date', 'gvkey', 'cik']\n",
    "feature_cols = [col for col in merged.columns if col not in non_feature_cols and pd.api.types.is_numeric_dtype(merged[col])]\n",
    "\n",
    "# 1. 欠損値を中央値で補完\n",
    "merged[feature_cols] = merged[feature_cols].fillna(merged[feature_cols].median())\n",
    "\n",
    "# 2. 標準化\n",
    "scaler = StandardScaler()\n",
    "merged_scaled = merged.copy()\n",
    "merged_scaled[feature_cols] = scaler.fit_transform(merged[feature_cols])\n",
    "\n",
    "# 3. 相関行列\n",
    "corr_matrix = merged_scaled[feature_cols].corr().abs()\n",
    "\n",
    "# 4. 上三角行列の抽出（NumPyを使う）\n",
    "upper = corr_matrix.where(np.triu(np.ones(corr_matrix.shape), k=1).astype(bool))\n",
    "\n",
    "# 5. 相関が高い列のうち片方を削除\n",
    "to_drop = [column for column in upper.columns if any(upper[column] > 0.95)]\n",
    "\n",
    "# 6. 最終データ（MLP用）\n",
    "merged_jkp_comp = merged_scaled.drop(columns=to_drop)\n",
    "gvkey_cusip_counts = merged_jkp_comp.groupby('gvkey')['cusip'].nunique()\n",
    "\n",
    "# 1. 各 gvkey に対して異なる cusip の数をカウント\n",
    "gvkey_cusip_counts = merged_jkp_comp.groupby('gvkey')['cusip'].nunique()\n",
    "\n",
    "# 2. 複数の cusip を持つ gvkey を抽出\n",
    "multi_cusip_gvkeys = gvkey_cusip_counts[gvkey_cusip_counts > 1].index\n",
    "\n",
    "# 3. 対象企業のデータを抽出\n",
    "merged_multi_cusip = merged_jkp_comp[merged_jkp_comp['gvkey'].isin(multi_cusip_gvkeys)]\n",
    "\n",
    "merged_jkp_comp['cusip'] = merged_jkp_comp['cusip'].astype(str)\n",
    "merged_jkp_comp['cusip8'] = merged_jkp_comp['cusip'].str[:8]\n",
    "\n",
    "unique_cusip8_count = merged_jkp_comp['cusip8'].nunique()\n",
    "print(f\"Number of unique cusip8: {unique_cusip8_count}\")"
   ]
  },
  {
   "cell_type": "code",
   "execution_count": 6,
   "metadata": {},
   "outputs": [
    {
     "name": "stdout",
     "output_type": "stream",
     "text": [
      "Number of unique cusip8: 321\n"
     ]
    }
   ],
   "source": [
    "# --- Step 1: Prepare datasets ---\n",
    "comp = comp_selected\n",
    "jkp = jkp_selected\n",
    "\n",
    "# Convert 'date' columns to datetime format\n",
    "jkp['date'] = pd.to_datetime(jkp['date'], errors='coerce')\n",
    "comp['date'] = pd.to_datetime(comp['date'], errors='coerce')\n",
    "\n",
    "# --- Step 2: Merge JKP factors into Compustat data by date ---\n",
    "# Left join on date to align macro-level JKP factors to firm-level Compustat data\n",
    "merged = comp.merge(jkp, on='date', how='left')\n",
    "\n",
    "# Identify numeric feature columns (excluding identifiers and date)\n",
    "non_feature_cols = ['date', 'gvkey', 'cik']\n",
    "feature_cols = [col for col in merged.columns if col not in non_feature_cols and pd.api.types.is_numeric_dtype(merged[col])]\n",
    "\n",
    "# --- Step 3: Handle missing values and standardize features ---\n",
    "# Fill missing values with median\n",
    "merged[feature_cols] = merged[feature_cols].fillna(merged[feature_cols].median())\n",
    "\n",
    "# Standardize features\n",
    "scaler = StandardScaler()\n",
    "merged_scaled = merged.copy()\n",
    "merged_scaled[feature_cols] = scaler.fit_transform(merged[feature_cols])\n",
    "\n",
    "# --- Step 4: Remove highly correlated features ---\n",
    "# Compute correlation matrix\n",
    "corr_matrix = merged_scaled[feature_cols].corr().abs()\n",
    "\n",
    "# Extract upper triangle to avoid duplicate checks\n",
    "upper = corr_matrix.where(np.triu(np.ones(corr_matrix.shape), k=1).astype(bool))\n",
    "\n",
    "# Identify columns to drop (correlation > 0.95)\n",
    "to_drop = [column for column in upper.columns if any(upper[column] > 0.95)]\n",
    "\n",
    "# Drop highly correlated features\n",
    "merged_jkp_comp = merged_scaled.drop(columns=to_drop)\n",
    "\n",
    "# --- Step 5: Investigate duplicate CUSIPs within the same gvkey ---\n",
    "# Count number of unique CUSIPs per gvkey\n",
    "gvkey_cusip_counts = merged_jkp_comp.groupby('gvkey')['cusip'].nunique()\n",
    "\n",
    "# Identify gvkeys with multiple CUSIPs\n",
    "multi_cusip_gvkeys = gvkey_cusip_counts[gvkey_cusip_counts > 1].index\n",
    "\n",
    "# Filter for rows corresponding to those gvkeys\n",
    "merged_multi_cusip = merged_jkp_comp[merged_jkp_comp['gvkey'].isin(multi_cusip_gvkeys)]\n",
    "\n",
    "# --- Step 6: Derive 8-digit CUSIP for matching with CRSP ---\n",
    "merged_jkp_comp['cusip'] = merged_jkp_comp['cusip'].astype(str)\n",
    "merged_jkp_comp['cusip8'] = merged_jkp_comp['cusip'].str[:8]\n",
    "\n",
    "# Check number of unique 8-digit CUSIPs\n",
    "unique_cusip8_count = merged_jkp_comp['cusip8'].nunique()\n",
    "print(f\"Number of unique cusip8: {unique_cusip8_count}\")"
   ]
  },
  {
   "cell_type": "markdown",
   "metadata": {},
   "source": [
    "### Merge JKP & Compustat data with Monthly CRSP"
   ]
  },
  {
   "cell_type": "code",
   "execution_count": 7,
   "metadata": {},
   "outputs": [],
   "source": [
    "# --- Step 1: Load and preprocess CRSP monthly return data ---\n",
    "crsp = pd.read_csv(\"monthly_crsp.csv\")\n",
    "\n",
    "# Convert MthCalDt to datetime format\n",
    "crsp['date'] = pd.to_datetime(crsp['MthCalDt'], errors='coerce')\n",
    "\n",
    "# Filter CRSP data to include only entries from 2005 to 2024\n",
    "start_date = pd.to_datetime(\"2005-01-01\")\n",
    "end_date = pd.to_datetime(\"2024-12-31\")\n",
    "crsp_filtered = crsp[(crsp['date'] >= start_date) & (crsp['date'] <= end_date)].copy()\n",
    "\n",
    "# --- Step 2: Filter CRSP data to include only firms that exist in merged_jkp_comp ---\n",
    "# Extract unique 8-digit CUSIPs from merged_jkp_comp\n",
    "cusip_set = merged_jkp_comp['cusip8'].dropna().unique()\n",
    "\n",
    "# Keep only rows in CRSP where CUSIP matches 8-digit CUSIPs from Compustat\n",
    "crsp_matched = crsp_filtered[crsp_filtered['CUSIP'].isin(cusip_set)].copy()\n",
    "\n",
    "# Convert date columns to datetime in case they were not\n",
    "merged_jkp_comp['date'] = pd.to_datetime(merged_jkp_comp['date'], errors='coerce')\n",
    "crsp_matched['date'] = pd.to_datetime(crsp_matched['date'], errors='coerce')\n",
    "\n",
    "# Create 8-digit CUSIP for merging\n",
    "crsp_matched['cusip8'] = crsp_matched['CUSIP'].str[:8]\n",
    "\n",
    "# --- Step 3: Merge firm-level data (Compustat + JKP) with market return data (CRSP) ---\n",
    "# Merge on both date and 8-digit CUSIP\n",
    "merged_data = pd.merge(\n",
    "    merged_jkp_comp,\n",
    "    crsp_matched,\n",
    "    left_on=['date', 'cusip8'],\n",
    "    right_on=['date', 'cusip8'],\n",
    "    how='inner'  # Use 'inner' to retain only matching records\n",
    ")\n",
    "\n",
    "# --- Step 4: Save the merged dataset for modeling ---\n",
    "merged_data.to_csv(\"merged_data.csv\", index=False)"
   ]
  },
  {
   "cell_type": "markdown",
   "metadata": {},
   "source": [
    "## Modeling"
   ]
  },
  {
   "cell_type": "markdown",
   "metadata": {},
   "source": [
    "### Data Preparation and Splitting for Stock Return Prediction Model"
   ]
  },
  {
   "cell_type": "code",
   "execution_count": 8,
   "metadata": {},
   "outputs": [],
   "source": [
    "# Step 1: Load preprocessed merged dataset (Compustat + JKP + CRSP)\n",
    "df = merged_data.copy()\n",
    "\n",
    "# Step 2: Convert 'date' column to datetime format\n",
    "df['date'] = pd.to_datetime(df['date'], errors='coerce')\n",
    "\n",
    "# Step 3: Specify columns to be dropped (identifiers and non-predictive columns)\n",
    "drop_columns = [\n",
    "    'datadate', 'gvkey', 'cusip', 'cusip8', 'cik',\n",
    "    'PERMNO', 'PERMCO', 'CUSIP', 'HdrCUSIP',\n",
    "    'Ticker', 'TradingSymbol', 'MthCalDt', 'sprtrn',\n",
    "    'SICCD', 'NAICS', 'date'\n",
    "]\n",
    "\n",
    "# Step 4: Define feature matrix X and target vector y\n",
    "X = df.drop(columns=drop_columns + ['MthRet']).fillna(0)  # Use all remaining columns as features\n",
    "y = df['MthRet']  # Monthly stock return as target variable\n",
    "\n",
    "# Step 5: Remove rows where the target (y) is missing\n",
    "valid_mask = ~y.isna()\n",
    "X = X[valid_mask]\n",
    "y = y[valid_mask]\n",
    "df = df[valid_mask]\n",
    "\n",
    "# Step 6: Create date-based masks for train, validation, and test splits\n",
    "train_mask = df['date'] < '2017-01-01'\n",
    "val_mask   = (df['date'] >= '2017-01-01') & (df['date'] < '2021-01-01')\n",
    "test_mask  = df['date'] >= '2021-01-01'\n",
    "\n",
    "# Step 7: Apply masks to split the dataset\n",
    "X_train = X[train_mask]\n",
    "y_train = y[train_mask]\n",
    "\n",
    "X_val = X[val_mask]\n",
    "y_val = y[val_mask]\n",
    "\n",
    "X_test = X[test_mask]\n",
    "y_test = y[test_mask]"
   ]
  },
  {
   "cell_type": "markdown",
   "metadata": {},
   "source": [
    "### Hyperparameter Optimization for MLP Regressor Using RandomizedSearchCV"
   ]
  },
  {
   "cell_type": "code",
   "execution_count": 9,
   "metadata": {},
   "outputs": [
    {
     "name": "stdout",
     "output_type": "stream",
     "text": [
      "Fitting 3 folds for each of 20 candidates, totalling 60 fits\n",
      "Best Parameters for MLP:\n",
      "{'max_iter': 1000, 'hidden_layer_sizes': (64, 32), 'early_stopping': False, 'alpha': 0.10531052631578948}\n",
      "Best R² on Validation: 0.15427\n"
     ]
    }
   ],
   "source": [
    "# Step 1: Define the hyperparameter search space for MLP\n",
    "param_dist = {\n",
    "    'hidden_layer_sizes': [(32,), (64,), (32, 16), (64, 32), (64, 32, 16)],  # Different layer configurations\n",
    "    'alpha': np.linspace(0.0001, 0.2, 20),  # Regularization strength (L2 penalty)\n",
    "    'early_stopping': [False],  # No early stopping for fair cross-validation\n",
    "    'max_iter': [1000]  # Maximum number of training iterations\n",
    "}\n",
    "\n",
    "# Step 2: Initialize the MLPRegressor\n",
    "mlp = MLPRegressor(random_state=42)\n",
    "\n",
    "# Step 3: Set up RandomizedSearchCV to find best hyperparameters\n",
    "random_search_mlp = RandomizedSearchCV(\n",
    "    estimator=mlp,\n",
    "    param_distributions=param_dist,\n",
    "    n_iter=20,           # Number of random combinations to try\n",
    "    cv=3,                # 3-fold cross-validation\n",
    "    scoring='r2',        # Maximize R² score\n",
    "    random_state=42,\n",
    "    n_jobs=-1,           # Use all available CPU cores\n",
    "    verbose=1            # Print progress during search\n",
    ")\n",
    "\n",
    "# Step 4: Run the search on the training data\n",
    "random_search_mlp.fit(X_train, y_train)\n",
    "\n",
    "# Step 5: Store and display the best hyperparameters and corresponding score\n",
    "best_params = random_search_mlp.best_params_\n",
    "print(\"Best Parameters for MLP:\")\n",
    "print(random_search_mlp.best_params_)\n",
    "print(f\"Best R² on Validation: {random_search_mlp.best_score_:.5f}\")"
   ]
  },
  {
   "cell_type": "markdown",
   "metadata": {},
   "source": [
    "### Hyperparameter Optimization for XGBoost Regressor Using RandomizedSearchCV"
   ]
  },
  {
   "cell_type": "code",
   "execution_count": 10,
   "metadata": {},
   "outputs": [
    {
     "name": "stdout",
     "output_type": "stream",
     "text": [
      "Fitting 3 folds for each of 20 candidates, totalling 60 fits\n",
      "Best Parameters for XGBoost:\n",
      "{'subsample': 0.6, 'reg_lambda': 0.8888888888888888, 'reg_alpha': 0.1111111111111111, 'n_estimators': 200, 'max_depth': 6, 'learning_rate': 0.042222222222222223, 'colsample_bytree': 0.6}\n",
      "Best R² on Validation: 0.14817\n"
     ]
    }
   ],
   "source": [
    "# Import XGBoost\n",
    "from xgboost import XGBRegressor\n",
    "from sklearn.model_selection import RandomizedSearchCV\n",
    "import numpy as np\n",
    "\n",
    "# Step 1: Define the hyperparameter search space for XGBoost\n",
    "param_dist_xgb = {\n",
    "    'n_estimators': np.arange(100, 500, 50),           # Number of trees\n",
    "    'learning_rate': np.linspace(0.01, 0.3, 10),       # Learning rate\n",
    "    'max_depth': np.arange(3, 10),                     # Maximum depth of trees\n",
    "    'subsample': np.linspace(0.6, 1.0, 5),             # Row sampling\n",
    "    'colsample_bytree': np.linspace(0.6, 1.0, 5),      # Column sampling per tree\n",
    "    'reg_alpha': np.linspace(0, 1, 10),                # L1 regularization\n",
    "    'reg_lambda': np.linspace(0, 1, 10)                # L2 regularization\n",
    "}\n",
    "\n",
    "# Step 2: Initialize the XGBoost Regressor\n",
    "xgb = XGBRegressor(random_state=42, n_jobs=-1)\n",
    "\n",
    "# Step 3: Set up RandomizedSearchCV\n",
    "random_search_xgb = RandomizedSearchCV(\n",
    "    estimator=xgb,\n",
    "    param_distributions=param_dist_xgb,\n",
    "    n_iter=20,              # Number of random combinations to try\n",
    "    cv=3,                   # 3-fold cross-validation\n",
    "    scoring='r2',           # Maximize R² score\n",
    "    random_state=42,\n",
    "    verbose=1,\n",
    "    n_jobs=-1               # Use all available CPU cores\n",
    ")\n",
    "\n",
    "# Step 4: Fit the model on the training data\n",
    "random_search_xgb.fit(X_train, y_train)\n",
    "\n",
    "# Step 5: Save the best parameters\n",
    "best_params_xgb = random_search_xgb.best_params_\n",
    "\n",
    "# Step 6: Print the results\n",
    "print(\"Best Parameters for XGBoost:\")\n",
    "print(best_params_xgb)\n",
    "print(f\"Best R² on Validation: {random_search_xgb.best_score_:.5f}\")"
   ]
  },
  {
   "cell_type": "markdown",
   "metadata": {},
   "source": [
    "### Model Comparison on Validation Set Using Optimized and Benchmark Parameters"
   ]
  },
  {
   "cell_type": "code",
   "execution_count": 11,
   "metadata": {},
   "outputs": [
    {
     "name": "stdout",
     "output_type": "stream",
     "text": [
      "          Model  Validation RMSE  Validation R²\n",
      "0           MLP          0.12742        0.13285\n",
      "1       XGBoost          0.12745        0.13251\n",
      "2         Lasso          0.12651        0.14521\n",
      "3  DecisionTree          0.12954        0.10387\n"
     ]
    }
   ],
   "source": [
    "# Import necessary models and metrics\n",
    "from sklearn.neural_network import MLPRegressor\n",
    "from sklearn.linear_model import Lasso\n",
    "from sklearn.tree import DecisionTreeRegressor\n",
    "from xgboost import XGBRegressor\n",
    "from sklearn.metrics import mean_squared_error, r2_score\n",
    "import pandas as pd\n",
    "import numpy as np\n",
    "\n",
    "# Step 1: Define models with optimized parameters for MLP and XGBoost\n",
    "# Lasso and DecisionTree are included as benchmark models\n",
    "models = {\n",
    "    \"MLP\": MLPRegressor(\n",
    "        **best_params,  # Best MLP parameters from RandomizedSearchCV\n",
    "        random_state=42\n",
    "    ),\n",
    "    \"XGBoost\": XGBRegressor(\n",
    "        **best_params_xgb,  # Best XGBoost parameters from RandomizedSearchCV\n",
    "        random_state=42,\n",
    "        n_jobs=-1\n",
    "    ),\n",
    "    \"Lasso\": Lasso(\n",
    "        alpha=0.001,       # Manually set alpha (benchmark)\n",
    "        max_iter=10000,\n",
    "        random_state=42\n",
    "    ),\n",
    "    \"DecisionTree\": DecisionTreeRegressor(\n",
    "        max_depth=5,       # Manually set max depth (benchmark)\n",
    "        random_state=42\n",
    "    )\n",
    "}\n",
    "\n",
    "# Step 2: Prepare to store evaluation results\n",
    "results = []\n",
    "\n",
    "# Step 3: Train each model, predict on validation set, and compute metrics\n",
    "for name, model in models.items():\n",
    "    model.fit(X_train, y_train)                # Train the model\n",
    "    y_val_pred = model.predict(X_val)          # Predict on validation data\n",
    "    \n",
    "    rmse = np.sqrt(mean_squared_error(y_val, y_val_pred))  # Compute RMSE\n",
    "    r2 = r2_score(y_val, y_val_pred)                       # Compute R² score\n",
    "    \n",
    "    # Save the results\n",
    "    results.append({\n",
    "        \"Model\": name,\n",
    "        \"Validation RMSE\": round(rmse, 5),\n",
    "        \"Validation R²\": round(r2, 5)\n",
    "    })\n",
    "\n",
    "# Step 4: Convert results to DataFrame and display\n",
    "df_results = pd.DataFrame(results)\n",
    "print(df_results)"
   ]
  },
  {
   "cell_type": "markdown",
   "metadata": {},
   "source": [
    "### Final Model Evaluation on Test Set using Lasso and MLP"
   ]
  },
  {
   "cell_type": "code",
   "execution_count": 12,
   "metadata": {},
   "outputs": [
    {
     "name": "stdout",
     "output_type": "stream",
     "text": [
      "               Model  Test RMSE   Test R²\n",
      "0      Lasso (Train)   0.094772  0.076484\n",
      "1  Lasso (Train+Val)   0.094807  0.075786\n",
      "2        MLP (Train)   0.093297  0.105010\n",
      "3    MLP (Train+Val)   0.092865  0.113265\n"
     ]
    }
   ],
   "source": [
    "# Combine training and validation data for extended training set\n",
    "X_train_val = pd.concat([X_train, X_val])\n",
    "y_train_val = pd.concat([y_train, y_val])\n",
    "\n",
    "# List to store test evaluation results\n",
    "results = []\n",
    "\n",
    "# ========== Lasso Regression ==========\n",
    "# 1. Trained on Train only\n",
    "lasso_train = Lasso(alpha=0.001, max_iter=10000)\n",
    "lasso_train.fit(X_train, y_train)\n",
    "y_pred_lasso_train = lasso_train.predict(X_test)\n",
    "\n",
    "# Compute metrics\n",
    "rmse = np.sqrt(mean_squared_error(y_test, y_pred_lasso_train))\n",
    "r2 = r2_score(y_test, y_pred_lasso_train)\n",
    "results.append({'Model': 'Lasso (Train)', 'Test RMSE': rmse, 'Test R²': r2})\n",
    "\n",
    "# 2. Trained on Train + Validation\n",
    "lasso_all = Lasso(alpha=0.001, max_iter=10000)\n",
    "lasso_all.fit(X_train_val, y_train_val)\n",
    "y_pred_lasso_all = lasso_all.predict(X_test)\n",
    "\n",
    "# Compute metrics\n",
    "rmse = np.sqrt(mean_squared_error(y_test, y_pred_lasso_all))\n",
    "r2 = r2_score(y_test, y_pred_lasso_all)\n",
    "results.append({'Model': 'Lasso (Train+Val)', 'Test RMSE': rmse, 'Test R²': r2})\n",
    "\n",
    "# ========== MLP (Neural Network) ==========\n",
    "# 1. Trained on Train only using best parameters\n",
    "mlp_train = MLPRegressor(**best_params, random_state=42)\n",
    "mlp_train.fit(X_train, y_train)\n",
    "y_pred_mlp_train = mlp_train.predict(X_test)\n",
    "\n",
    "# Compute metrics\n",
    "rmse = np.sqrt(mean_squared_error(y_test, y_pred_mlp_train))\n",
    "r2 = r2_score(y_test, y_pred_mlp_train)\n",
    "results.append({'Model': 'MLP (Train)', 'Test RMSE': rmse, 'Test R²': r2})\n",
    "\n",
    "# 2. Trained on Train + Validation using best parameters\n",
    "mlp_all = MLPRegressor(**best_params, random_state=42)\n",
    "mlp_all.fit(X_train_val, y_train_val)\n",
    "y_pred_mlp_all = mlp_all.predict(X_test)\n",
    "\n",
    "# Compute metrics\n",
    "rmse = np.sqrt(mean_squared_error(y_test, y_pred_mlp_all))\n",
    "r2 = r2_score(y_test, y_pred_mlp_all)\n",
    "results.append({'Model': 'MLP (Train+Val)', 'Test RMSE': rmse, 'Test R²': r2})\n",
    "\n",
    "# Show results as DataFrame\n",
    "results_df = pd.DataFrame(results)\n",
    "print(results_df)"
   ]
  },
  {
   "cell_type": "markdown",
   "metadata": {},
   "source": [
    "### Feature Selection using Permutation Importance for MLP Model"
   ]
  },
  {
   "cell_type": "code",
   "execution_count": 13,
   "metadata": {},
   "outputs": [
    {
     "data": {
      "image/png": "[encoded data removed]",
      "text/plain": [
       "<Figure size 1000x600 with 1 Axes>"
      ]
     },
     "metadata": {},
     "output_type": "display_data"
    },
    {
     "name": "stdout",
     "output_type": "stream",
     "text": [
      "\n",
      "Selected 29 features above threshold 0.001\n"
     ]
    }
   ],
   "source": [
    "# --- 1. Combine training and validation sets ---\n",
    "X_train_val = pd.concat([X_train, X_val])\n",
    "y_train_val = pd.concat([y_train, y_val])\n",
    "\n",
    "# --- 2. Train MLP model with optimized parameters ---\n",
    "mlp = MLPRegressor(**best_params, random_state=42)\n",
    "mlp.fit(X_train_val, y_train_val)\n",
    "\n",
    "# --- 3. Compute permutation importance on train+val data ---\n",
    "result = permutation_importance(\n",
    "    estimator=mlp,\n",
    "    X=X_train_val,\n",
    "    y=y_train_val,\n",
    "    n_repeats=10,\n",
    "    random_state=42,\n",
    "    n_jobs=-1\n",
    ")\n",
    "\n",
    "# --- 4. Organize results into a DataFrame ---\n",
    "importances = pd.DataFrame({\n",
    "    'Feature': X_train_val.columns,\n",
    "    'Importance Mean': result.importances_mean,\n",
    "    'Importance Std': result.importances_std\n",
    "}).sort_values(by='Importance Mean', ascending=False)\n",
    "\n",
    "# --- 5. Visualize top N most important features ---\n",
    "top_n = 20\n",
    "top_importances = importances.head(top_n)\n",
    "\n",
    "plt.figure(figsize=(10, 6))\n",
    "plt.barh(\n",
    "    top_importances['Feature'][::-1],\n",
    "    top_importances['Importance Mean'][::-1],\n",
    "    xerr=top_importances['Importance Std'][::-1]\n",
    ")\n",
    "plt.xlabel(\"Permutation Importance\")\n",
    "plt.title(f\"Top {top_n} Feature Importances (MLP)\")\n",
    "plt.grid(True)\n",
    "plt.tight_layout()\n",
    "plt.show()\n",
    "\n",
    "# --- 6. Select features with importance above threshold ---\n",
    "threshold = 0.001\n",
    "selected_features = importances[importances['Importance Mean'] >= threshold]['Feature'].tolist()\n",
    "print(f\"\\nSelected {len(selected_features)} features above threshold {threshold}\")"
   ]
  },
  {
   "cell_type": "markdown",
   "metadata": {},
   "source": [
    "### Hyperparameter Optimization for MLP with Selected Features"
   ]
  },
  {
   "cell_type": "code",
   "execution_count": 14,
   "metadata": {},
   "outputs": [
    {
     "name": "stdout",
     "output_type": "stream",
     "text": [
      "Fitting 3 folds for each of 20 candidates, totalling 60 fits\n",
      "Best Parameters (Selected Features): {'max_iter': 1000, 'hidden_layer_sizes': (32, 16), 'early_stopping': False, 'alpha': 0.10531052631578948}\n"
     ]
    }
   ],
   "source": [
    "# --- 1. Define hyperparameter search space ---\n",
    "param_dist = {\n",
    "    'hidden_layer_sizes': [(16,), (32, 16), (64, 32)],  # Different layer configurations\n",
    "    'alpha': np.linspace(0.0001, 0.2, 20),              # Regularization strengths\n",
    "    'early_stopping': [False],                          # No early stopping\n",
    "    'max_iter': [1000]                                  # Max training iterations\n",
    "}\n",
    "\n",
    "# --- 2. Initialize MLPRegressor for tuning ---\n",
    "mlp = MLPRegressor(random_state=42)\n",
    "\n",
    "# --- 3. Setup RandomizedSearchCV with R² as the scoring metric ---\n",
    "random_search = RandomizedSearchCV(\n",
    "    estimator=mlp,\n",
    "    param_distributions=param_dist,\n",
    "    n_iter=20,\n",
    "    scoring='r2',\n",
    "    cv=3,\n",
    "    verbose=1,\n",
    "    random_state=42,\n",
    "    n_jobs=-1\n",
    ")\n",
    "\n",
    "# --- 4. Fit model using only selected features on combined train+val data ---\n",
    "random_search.fit(X_train_val[selected_features], y_train_val)\n",
    "\n",
    "# --- 5. Store and display the best hyperparameters found ---\n",
    "best_params_mlp_selected = random_search.best_params_\n",
    "print(\"Best Parameters (Selected Features):\", best_params_mlp_selected)"
   ]
  },
  {
   "cell_type": "markdown",
   "metadata": {},
   "source": [
    "### Final Result"
   ]
  },
  {
   "cell_type": "code",
   "execution_count": 15,
   "metadata": {},
   "outputs": [
    {
     "name": "stdout",
     "output_type": "stream",
     "text": [
      "\n",
      "Final MLP Test RMSE (optimized, selected features): 0.09250\n",
      "Final MLP Test R² (optimized, selected features): 0.12020\n"
     ]
    }
   ],
   "source": [
    "# 1. Train the final MLP model using the best hyperparameters and selected features\n",
    "mlp_final_selected = MLPRegressor(**best_params_mlp_selected, random_state=42)\n",
    "mlp_final_selected.fit(X_train_val[selected_features], y_train_val)\n",
    "\n",
    "# 2. Predict the test set and evaluate performance\n",
    "y_test_pred = mlp_final_selected.predict(X_test[selected_features])\n",
    "rmse = np.sqrt(mean_squared_error(y_test, y_test_pred))\n",
    "r2 = r2_score(y_test, y_test_pred)\n",
    "\n",
    "print(f\"\\nFinal MLP Test RMSE (optimized, selected features): {rmse:.5f}\")\n",
    "print(f\"Final MLP Test R² (optimized, selected features): {r2:.5f}\")"
   ]
  }
 ],
 "metadata": {
  "kernelspec": {
   "display_name": "base",
   "language": "python",
   "name": "python3"
  },
  "language_info": {
   "codemirror_mode": {
    "name": "ipython",
    "version": 3
   },
   "file_extension": ".py",
   "mimetype": "text/x-python",
   "name": "python",
   "nbconvert_exporter": "python",
   "pygments_lexer": "ipython3",
   "version": "3.12.2"
  }
 },
 "nbformat": 4,
 "nbformat_minor": 2
}
