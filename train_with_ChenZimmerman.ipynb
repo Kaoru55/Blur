{
 "cells": [
  {
   "cell_type": "markdown",
   "id": "84d7f2aa",
   "metadata": {},
   "source": [
    "# Data Loading and Merging\n",
    "Following the approach in train_1, we add Chen-Zimmerman data as features by merging it with the main dataset."
   ]
  },
  {
   "cell_type": "code",
   "execution_count": 9,
   "id": "829888a2",
   "metadata": {},
   "outputs": [],
   "source": [
    "import pandas as pd\n",
    "\n",
    "# Load main data\n",
    "main_df = pd.read_csv(\"merged_compustat_crsp.csv\")\n",
    "\n",
    "# Load Chen-Zimmerman data\n",
    "cz_df = pd.read_csv(\"Chen-Zimmerman-PredictorLSretWide-feds-2021037.csv\")"
   ]
  },
  {
   "cell_type": "code",
   "execution_count": 10,
   "id": "696397fd",
   "metadata": {},
   "outputs": [],
   "source": [
    "# Convert date columns (if present)\n",
    "main_df['date'] = pd.to_datetime(main_df['date'], errors='coerce')\n",
    "cz_df['date'] = pd.to_datetime(cz_df['date'], errors='coerce')"
   ]
  },
  {
   "cell_type": "code",
   "execution_count": 11,
   "id": "829b184a",
   "metadata": {},
   "outputs": [],
   "source": [
    "# Merge on common keys (e.g., 'date' and 'PERMNO')\n",
    "# Adjust keys as needed for your data\n",
    "merged_df = pd.merge(main_df, cz_df, on=['date'], how='left')"
   ]
  },
  {
   "cell_type": "code",
   "execution_count": 12,
   "id": "09f15f7a",
   "metadata": {},
   "outputs": [],
   "source": [
    "# Columns to exclude from features\n",
    "exclude_columns = [\n",
    "    'datadate', 'gvkey', 'cusip', 'cusip8', 'cik',\n",
    "    'PERMNO', 'PERMCO', 'CUSIP', 'HdrCUSIP',\n",
    "    'Ticker', 'TradingSymbol', 'MthCalDt', 'sprtrn',\n",
    "    'SICCD', 'NAICS', 'date'\n",
    "]\n",
    "\n",
    "# Split into features (X) and target (y)\n",
    "X = merged_df.drop(columns=exclude_columns + ['MthRet']).fillna(0)\n",
    "y = merged_df['MthRet']"
   ]
  },
  {
   "cell_type": "code",
   "execution_count": 13,
   "id": "9da4827e",
   "metadata": {},
   "outputs": [],
   "source": [
    "# Remove rows where the target variable y is NaN\n",
    "valid_mask = ~y.isna()\n",
    "\n",
    "X = X[valid_mask]\n",
    "y = y[valid_mask]\n",
    "\n",
    "merged_df = merged_df[valid_mask]"
   ]
  },
  {
   "cell_type": "code",
   "execution_count": 14,
   "id": "af1389cd",
   "metadata": {},
   "outputs": [],
   "source": [
    "# Create train, validation, and test masks based on date\n",
    "train_mask = merged_df['date'] < '2017-01-01'\n",
    "val_mask = (merged_df['date'] >= '2017-01-01') & (merged_df['date'] < '2021-01-01')\n",
    "test_mask = merged_df['date'] >= '2021-01-01'\n",
    "\n",
    "# Split the data\n",
    "X_train = X[train_mask]\n",
    "y_train = y[train_mask]\n",
    "\n",
    "X_val = X[val_mask]\n",
    "y_val = y[val_mask]\n",
    "\n",
    "X_test = X[test_mask]\n",
    "y_test = y[test_mask]"
   ]
  },
  {
   "cell_type": "markdown",
   "id": "52d42e39",
   "metadata": {},
   "source": [
    "# Model Training and Evaluation\n",
    "Compare the effect of adding Chen-Zimmerman features using the same methods as in train_1."
   ]
  },
  {
   "cell_type": "code",
   "execution_count": 15,
   "id": "90bd098c",
   "metadata": {},
   "outputs": [
    {
     "name": "stdout",
     "output_type": "stream",
     "text": [
      "Validation RMSE (Linear Regression): 394483170127.46637\n",
      "Validation R² (Linear Regression): -8310907151909766983319552.00000\n"
     ]
    }
   ],
   "source": [
    "from sklearn.linear_model import LinearRegression\n",
    "from sklearn.metrics import mean_squared_error, r2_score\n",
    "import numpy as np\n",
    "\n",
    "# Linear Regression\n",
    "lr_model = LinearRegression()\n",
    "lr_model.fit(X_train, y_train)\n",
    "\n",
    "# Validation prediction\n",
    "y_val_pred = lr_model.predict(X_val)\n",
    "\n",
    "# Evaluation metrics\n",
    "rmse = np.sqrt(mean_squared_error(y_val, y_val_pred))\n",
    "r2 = r2_score(y_val, y_val_pred)\n",
    "\n",
    "print(f\"Validation RMSE (Linear Regression): {rmse:.5f}\")\n",
    "print(f\"Validation R² (Linear Regression): {r2:.5f}\")"
   ]
  },
  {
   "cell_type": "code",
   "execution_count": 16,
   "id": "5476e43e",
   "metadata": {},
   "outputs": [
    {
     "name": "stdout",
     "output_type": "stream",
     "text": [
      "Validation RMSE (MLP): 0.52163\n",
      "Validation R² (MLP): -13.53160\n"
     ]
    }
   ],
   "source": [
    "from sklearn.neural_network import MLPRegressor\n",
    "\n",
    "# MLP Regressor (same structure as in train_1)\n",
    "mlp = MLPRegressor(\n",
    "    hidden_layer_sizes=(64, 32),\n",
    "    activation='relu',\n",
    "    solver='adam',\n",
    "    max_iter=500,\n",
    "    random_state=42\n",
    ")\n",
    "mlp.fit(X_train, y_train)\n",
    "\n",
    "# Validation prediction\n",
    "y_val_pred = mlp.predict(X_val)\n",
    "\n",
    "# Evaluation metrics\n",
    "rmse = np.sqrt(mean_squared_error(y_val, y_val_pred))\n",
    "r2 = r2_score(y_val, y_val_pred)\n",
    "\n",
    "print(f\"Validation RMSE (MLP): {rmse:.5f}\")\n",
    "print(f\"Validation R² (MLP): {r2:.5f}\")"
   ]
  }
 ],
 "metadata": {
  "kernelspec": {
   "display_name": "base",
   "language": "python",
   "name": "python3"
  },
  "language_info": {
   "codemirror_mode": {
    "name": "ipython",
    "version": 3
   },
   "file_extension": ".py",
   "mimetype": "text/x-python",
   "name": "python",
   "nbconvert_exporter": "python",
   "pygments_lexer": "ipython3",
   "version": "3.11.5"
  }
 },
 "nbformat": 4,
 "nbformat_minor": 5
}
